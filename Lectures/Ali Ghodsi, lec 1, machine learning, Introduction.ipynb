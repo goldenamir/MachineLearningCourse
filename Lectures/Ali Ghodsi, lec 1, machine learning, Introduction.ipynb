{
 "cells": [
  {
   "cell_type": "markdown",
   "metadata": {},
   "source": [
    "#### Classical statistical learning vs. machine learning\n",
    "Classical Statistical Learning vs Machine Learning:\n",
    "in the classical learning just from small number of data we try to get some information which can we make sense of them an \n",
    "yet in machine learning we have lots of data and we can extract lots of infos\n"
   ]
  },
  {
   "cell_type": "markdown",
   "metadata": {},
   "source": [
    "#### Fundmental parts of machine learning\n",
    "- classification\n",
    "- regression\n",
    "- clustering\n",
    "- representaiton learning (feature extraction, manifold learning, density estimation)"
   ]
  },
  {
   "cell_type": "markdown",
   "metadata": {},
   "source": [
    "#### Application of machine learning:\n",
    "- search and recommendation (e.g., google,amazon)\n",
    "- automatic speech recognition and speak verification\n",
    "- text parsing\n",
    "- face identification\n",
    "- tracking object in video\n",
    "- financial prediction, fraud detection\n",
    "- medical diagnosis"
   ]
  },
  {
   "cell_type": "markdown",
   "metadata": {},
   "source": [
    "#### More application\n",
    "- handwritten identification\n",
    "- drug discovery (to identify the bilogogical activity of chemical compounds using feature describing the chemical structures)\n",
    "- gene expression analysis (thousands of features with only dozens of observations)"
   ]
  },
  {
   "cell_type": "markdown",
   "metadata": {},
   "source": [
    "### Classifcation\n",
    "Predicting a discrete random variable x to discrete random variable y"
   ]
  },
  {
   "cell_type": "markdown",
   "metadata": {},
   "source": []
  }
 ],
 "metadata": {
  "kernelspec": {
   "display_name": "Python 3",
   "language": "python",
   "name": "python3"
  },
  "language_info": {
   "codemirror_mode": {
    "name": "ipython",
    "version": 3
   },
   "file_extension": ".py",
   "mimetype": "text/x-python",
   "name": "python",
   "nbconvert_exporter": "python",
   "pygments_lexer": "ipython3",
   "version": "3.6.5"
  }
 },
 "nbformat": 4,
 "nbformat_minor": 2
}
