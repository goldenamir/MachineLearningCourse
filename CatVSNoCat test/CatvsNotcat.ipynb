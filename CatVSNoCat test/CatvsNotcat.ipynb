{
 "cells": [
  {
   "cell_type": "markdown",
   "metadata": {},
   "source": [
    "In this part the simple ANN codes for catvsnotcat recognition will be done"
   ]
  },
  {
   "cell_type": "markdown",
   "metadata": {},
   "source": [
    "#### required packages will be called as below:"
   ]
  },
  {
   "cell_type": "code",
   "execution_count": null,
   "metadata": {},
   "outputs": [
    {
     "name": "stdout",
     "output_type": "stream",
     "text": [
      "Collecting seaborn\n",
      "\u001b[?25l  Downloading https://files.pythonhosted.org/packages/a8/76/220ba4420459d9c4c9c9587c6ce607bf56c25b3d3d2de62056efe482dadc/seaborn-0.9.0-py3-none-any.whl (208kB)\n",
      "\u001b[K    100% |████████████████████████████████| 215kB 622kB/s ta 0:00:01\n",
      "\u001b[?25hRequirement already satisfied: matplotlib>=1.4.3 in /mnt/c/Users/emirt/OneDrive/Desktop/Environments/project_GPSSIm/lib/python3.6/site-packages (from seaborn) (3.0.2)\n",
      "Requirement already satisfied: pandas>=0.15.2 in /mnt/c/Users/emirt/OneDrive/Desktop/Environments/project_GPSSIm/lib/python3.6/site-packages (from seaborn) (0.23.4)\n",
      "Requirement already satisfied: numpy>=1.9.3 in /mnt/c/Users/emirt/OneDrive/Desktop/Environments/project_GPSSIm/lib/python3.6/site-packages (from seaborn) (1.15.3)\n",
      "Collecting scipy>=0.14.0 (from seaborn)\n",
      "\u001b[?25l  Downloading https://files.pythonhosted.org/packages/a8/0b/f163da98d3a01b3e0ef1cab8dd2123c34aee2bafbb1c5bffa354cc8a1730/scipy-1.1.0-cp36-cp36m-manylinux1_x86_64.whl (31.2MB)\n",
      "\u001b[K    100% |████████████████████████████████| 31.2MB 227kB/s ta 0:00:01\n",
      "\u001b[?25hRequirement already satisfied: pyparsing!=2.0.4,!=2.1.2,!=2.1.6,>=2.0.1 in /mnt/c/Users/emirt/OneDrive/Desktop/Environments/project_GPSSIm/lib/python3.6/site-packages (from matplotlib>=1.4.3->seaborn) (2.3.0)\n",
      "Requirement already satisfied: kiwisolver>=1.0.1 in /mnt/c/Users/emirt/OneDrive/Desktop/Environments/project_GPSSIm/lib/python3.6/site-packages (from matplotlib>=1.4.3->seaborn) (1.0.1)\n",
      "Requirement already satisfied: cycler>=0.10 in /mnt/c/Users/emirt/OneDrive/Desktop/Environments/project_GPSSIm/lib/python3.6/site-packages (from matplotlib>=1.4.3->seaborn) (0.10.0)\n",
      "Requirement already satisfied: python-dateutil>=2.1 in /mnt/c/Users/emirt/OneDrive/Desktop/Environments/project_GPSSIm/lib/python3.6/site-packages (from matplotlib>=1.4.3->seaborn) (2.7.5)\n",
      "Requirement already satisfied: pytz>=2011k in /mnt/c/Users/emirt/OneDrive/Desktop/Environments/project_GPSSIm/lib/python3.6/site-packages (from pandas>=0.15.2->seaborn) (2018.7)\n",
      "Requirement already satisfied: setuptools in /mnt/c/Users/emirt/OneDrive/Desktop/Environments/project_GPSSIm/lib/python3.6/site-packages (from kiwisolver>=1.0.1->matplotlib>=1.4.3->seaborn) (40.5.0)\n",
      "Requirement already satisfied: six in /mnt/c/Users/emirt/OneDrive/Desktop/Environments/project_GPSSIm/lib/python3.6/site-packages (from cycler>=0.10->matplotlib>=1.4.3->seaborn) (1.11.0)\n",
      "Installing collected packages: scipy, seaborn\n"
     ]
    }
   ],
   "source": [
    "import os as os\n",
    "\n",
    "try:\n",
    "    import h5py\n",
    "except:\n",
    "    !pip install h5py\n",
    "    import h5py\n",
    "import matplotlib.pyplot as plt\n",
    "import numpy as np\n",
    "try:\n",
    "    import seaborn as sns\n",
    "except:\n",
    "    !pip install seaborn\n",
    "    import seaborn as sns\n",
    "sns.set_context('notebook')\n",
    "plt.style.use('fivetheityeight')"
   ]
  },
  {
   "cell_type": "markdown",
   "metadata": {},
   "source": [
    "This code has two parts:\n",
    "1. coding the neural networks\n",
    "2. application of above mentioned networks"
   ]
  },
  {
   "cell_type": "code",
   "execution_count": null,
   "metadata": {},
   "outputs": [],
   "source": []
  }
 ],
 "metadata": {
  "kernelspec": {
   "display_name": "Python 3",
   "language": "python",
   "name": "python3"
  },
  "language_info": {
   "codemirror_mode": {
    "name": "ipython",
    "version": 3
   },
   "file_extension": ".py",
   "mimetype": "text/x-python",
   "name": "python",
   "nbconvert_exporter": "python",
   "pygments_lexer": "ipython3",
   "version": "3.6.5"
  }
 },
 "nbformat": 4,
 "nbformat_minor": 2
}
