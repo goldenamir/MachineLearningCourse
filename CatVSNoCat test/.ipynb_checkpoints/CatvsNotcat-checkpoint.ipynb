{
 "cells": [
  {
   "cell_type": "markdown",
   "metadata": {},
   "source": [
    "In this part the simple ANN codes for catvsnotcat recognition will be done"
   ]
  },
  {
   "cell_type": "markdown",
   "metadata": {},
   "source": [
    "#### required packages will be called as below:"
   ]
  },
  {
   "cell_type": "code",
   "execution_count": 6,
   "metadata": {},
   "outputs": [],
   "source": [
    "import os as os\n",
    "\n",
    "try:\n",
    "    import h5py\n",
    "except:\n",
    "    !pip install h5py\n",
    "    import h5py\n",
    "import matplotlib.pyplot as plt\n",
    "import numpy as np\n",
    "try:\n",
    "    import seaborn as sns\n",
    "except:\n",
    "    !pip install seaborn\n",
    "    import seaborn as sns\n",
    "sns.set_context('notebook')\n"
   ]
  },
  {
   "cell_type": "markdown",
   "metadata": {},
   "source": [
    "This code has two parts:\n",
    "1. coding the neural networks\n",
    "2. application of above mentioned networks"
   ]
  },
  {
   "attachments": {},
   "cell_type": "markdown",
   "metadata": {},
   "source": [
    "Some notation has been used as below:\n",
    "![ANN required notaitons](https://github.com/goldenamir/MachineLearningCourse/blob/master/CatVSNoCat%20test/Images/NNNotation.png?raw=true)"
   ]
  },
  {
   "cell_type": "code",
   "execution_count": null,
   "metadata": {},
   "outputs": [],
   "source": []
  }
 ],
 "metadata": {
  "kernelspec": {
   "display_name": "Python 3",
   "language": "python",
   "name": "python3"
  },
  "language_info": {
   "codemirror_mode": {
    "name": "ipython",
    "version": 3
   },
   "file_extension": ".py",
   "mimetype": "text/x-python",
   "name": "python",
   "nbconvert_exporter": "python",
   "pygments_lexer": "ipython3",
   "version": "3.6.5"
  }
 },
 "nbformat": 4,
 "nbformat_minor": 2
}
